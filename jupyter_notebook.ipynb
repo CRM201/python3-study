{
 "cells": [
  {
   "cell_type": "markdown",
   "metadata": {},
   "source": [
    "# Jupyter Notebook"
   ]
  },
  {
   "cell_type": "markdown",
   "metadata": {},
   "source": [
    "## Step 0\n",
    "\n",
    "开始菜单中找到 Jupyter Notebook"
   ]
  },
  {
   "cell_type": "markdown",
   "metadata": {
    "collapsed": true
   },
   "source": [
    "![Step 0](figure/notebook0.png)"
   ]
  },
  {
   "cell_type": "markdown",
   "metadata": {},
   "source": [
    "## Step 1\n",
    "双击 Desktop 进入你的桌面。"
   ]
  },
  {
   "cell_type": "markdown",
   "metadata": {},
   "source": [
    "![Step 1](figure/notebook1.png)"
   ]
  },
  {
   "cell_type": "markdown",
   "metadata": {},
   "source": [
    "## Step 2\n",
    "下面显示的是我的桌面上的文件和文件夹。"
   ]
  },
  {
   "cell_type": "markdown",
   "metadata": {},
   "source": [
    "![Step 2](figure/notebook2.png)"
   ]
  },
  {
   "cell_type": "markdown",
   "metadata": {},
   "source": [
    "## Step 3\n",
    "\n",
    "点击下拉菜单 New 中的 Python 3， 就可以在你的桌面上建立一个新 notebook 文件，会在另外一个浏览器页面中打开这个新的 notebook 文件。"
   ]
  },
  {
   "cell_type": "markdown",
   "metadata": {},
   "source": [
    "![Step 3](figure/notebook3.png)"
   ]
  },
  {
   "cell_type": "markdown",
   "metadata": {},
   "source": [
    "## Step 4\n",
    "\n",
    "你可以\n",
    "* 点击 Untitled 来修改这个 notebook 文件的名字\n",
    "* 点击 Help 菜单，获得如下帮助信息：\n",
    "    1. User Interface Tour： 对整个页面的介绍\n",
    "    1. Keyboard Shortcuts： 快捷键\n",
    "    1. Notebook Help： Jupyter Notebook 的帮助文档\n",
    "    1. Markdown ： Markdown 标记语言的帮助文档\n",
    "    1. Python ： Python 语言的帮助文档\n",
    "    1. Ipython ：IPython 终端的帮助文档\n",
    "    1. Numpy ： Python 的多维数组扩展软件包\n",
    "    1. Scipy ： Python 的基于 Numpy 的科学计算软件包\n",
    "    1. Matplotlib : Python 的画图软件包\n",
    "    1. Sympy ： Python 的符号计算软件包\n",
    "    1. Pandas ： Python 的数据处理软件包"
   ]
  },
  {
   "cell_type": "markdown",
   "metadata": {},
   "source": [
    "![Step 4](figure/notebook4.png)"
   ]
  }
 ],
 "metadata": {
  "kernelspec": {
   "display_name": "Python 3",
   "language": "python",
   "name": "python3"
  },
  "language_info": {
   "codemirror_mode": {
    "name": "ipython",
    "version": 3
   },
   "file_extension": ".py",
   "mimetype": "text/x-python",
   "name": "python",
   "nbconvert_exporter": "python",
   "pygments_lexer": "ipython3",
   "version": "3.5.2"
  },
  "latex_envs": {
   "bibliofile": "biblio.bib",
   "cite_by": "apalike",
   "current_citInitial": 1,
   "eqLabelWithNumbers": true,
   "eqNumInitial": 0
  }
 },
 "nbformat": 4,
 "nbformat_minor": 2
}
