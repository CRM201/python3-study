{
 "cells": [
  {
   "cell_type": "markdown",
   "metadata": {},
   "source": [
    "# Anaconda"
   ]
  },
  {
   "cell_type": "markdown",
   "metadata": {},
   "source": [
    "Anaconda 是一种 Python 语言的免费开源发行版，用于进行大规模数据处理, 预测分析, 和科学计算, 致力于简化 Python 包的管理和部署。"
   ]
  },
  {
   "cell_type": "markdown",
   "metadata": {},
   "source": [
    "## 下载\n",
    "\n",
    "* Windows\n",
    "https://www.anaconda.com/download/#windows\n",
    "\n",
    "* Linux\n",
    "https://www.anaconda.com/download/#linux\n",
    "\n",
    "可以根据自己的系统选择下载 64 位或 32 版本的安装文件。"
   ]
  },
  {
   "cell_type": "markdown",
   "metadata": {},
   "source": [
    "## 安装"
   ]
  },
  {
   "cell_type": "markdown",
   "metadata": {},
   "source": [
    "### Windows"
   ]
  },
  {
   "cell_type": "markdown",
   "metadata": {},
   "source": [
    "Windows 下安装过后，开始菜单中会出现一个 Anaconda 的文件夹，里面有如下内容：\n",
    "\n",
    "* Python(shell) ： 标准CPython\n",
    "* IPython(shell)： 相当于在命令窗口的命令提示符后输入ipython回车。\n",
    "* Ipython QTConsole\n",
    "* IPython Notebook：直接点击打开，或者在命令提示符中输入ipython.exe notebook\n",
    "* Jupyter QTConsole\n",
    "* Jupyter Notebook：直接点击打开，或在终端中输入： jupyter notebook 以启动服务器；在浏览器中打开notebook页面地址：http://localhost:8888 。Jupyter Notebook是一种 Web 应用，能让用户将说明文本、数学方程、代码和可视化内容全部组合到一个易于共享的文档中。\n",
    "* Spyder：直接点击打开IDE。最大优点就是模仿MATLAB的“工作空间”\n",
    "* Anaconda Prompt ： 命令行终端\n",
    "* 支持其他IDE，如Pycharm"
   ]
  },
  {
   "cell_type": "markdown",
   "metadata": {},
   "source": [
    "可以用 Jupyter Notebook 在网页中写数学、编程等方面的文档。\n",
    "\n",
    "可以用 Spyder 提供的类似 Matlab 集成开发环境，编写与运行程序。 "
   ]
  },
  {
   "cell_type": "code",
   "execution_count": null,
   "metadata": {
    "collapsed": true
   },
   "outputs": [],
   "source": []
  }
 ],
 "metadata": {
  "kernelspec": {
   "display_name": "Python 3",
   "language": "python",
   "name": "python3"
  },
  "language_info": {
   "codemirror_mode": {
    "name": "ipython",
    "version": 3
   },
   "file_extension": ".py",
   "mimetype": "text/x-python",
   "name": "python",
   "nbconvert_exporter": "python",
   "pygments_lexer": "ipython3",
   "version": "3.5.2"
  },
  "latex_envs": {
   "bibliofile": "biblio.bib",
   "cite_by": "apalike",
   "current_citInitial": 1,
   "eqLabelWithNumbers": true,
   "eqNumInitial": 0
  }
 },
 "nbformat": 4,
 "nbformat_minor": 2
}
